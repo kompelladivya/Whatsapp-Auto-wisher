{
 "cells": [
  {
   "cell_type": "markdown",
   "metadata": {},
   "source": [
    "Now-a-days we are watching that it has become a trend to message in whatsapp and wish\n",
    "birthdays, anniversaries or any special occasion. But yesterday was my friend’s birthday and I\n",
    "forget to wish him. You need to automate WhatsApp and set the date and time at which the wish\n",
    "of occasion will be automatically sent to the person you want."
   ]
  },
  {
   "cell_type": "code",
   "execution_count": null,
   "metadata": {},
   "outputs": [],
   "source": [
    "pip install selenium"
   ]
  },
  {
   "cell_type": "code",
   "execution_count": null,
   "metadata": {},
   "outputs": [],
   "source": [
    "from selenium import webdriver\n",
    "import time\n",
    "\n",
    "driver=webdriver.Chrome(\"chromedriver\")\n",
    "driver.get(\"https://web.whatsapp.com\")\n",
    "\n",
    "def asking():\n",
    "    print(\"Do you want to schedule more messages or not??\")\n",
    "    continue_msg=input(\"press yes for yes and no for no :\")\n",
    "    if (continue_msg.lower()=='yes'):\n",
    "        conversation()\n",
    "    elif(continue_msg.lower()=='no'):\n",
    "        print(\"\")\n",
    "    else:\n",
    "        print(\"Please choose from given option only....!\")\n",
    "        asking()\n",
    "        \n",
    "def conversation():\n",
    "    name=input('\\nEnter Group/Contact Name: ')\n",
    "    message=input(\"Enter your message to group/Contact: \")\n",
    "    try:\n",
    "        timing_in_min=int(input(\"Enter the time in min after which you want to schedule the wishes: \"))\n",
    "        timing=(timing_in_min)*60\n",
    "   \n",
    "    #find whom to message\n",
    "        user = driver.find_element_by_xpath(\n",
    "        '//span[@title=\"{}\"]'.format(name))\n",
    "        user.click()\n",
    "    except:\n",
    "        conversation()\n",
    "    time.sleep(timing)\n",
    "    \n",
    "    #text box\n",
    "    text_box=driver.find_element_by_class_name('p3_M1')\n",
    "    \n",
    "    #send button\n",
    "    text_box.send_keys(message)\n",
    "    driver.find_element_by_class_name(\"_4sWnG\").click()   \n",
    "    asking()\n",
    "conversation()"
   ]
  }
 ],
 "metadata": {
  "kernelspec": {
   "display_name": "Python 3",
   "language": "python",
   "name": "python3"
  }
 },
 "nbformat": 4,
 "nbformat_minor": 4
}
